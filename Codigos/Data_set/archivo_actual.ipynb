{
 "cells": [
  {
   "cell_type": "code",
   "execution_count": 2,
   "id": "b953a748-4643-4312-8eda-1d79aba0eea9",
   "metadata": {},
   "outputs": [],
   "source": [
    "import torch.utils.data as data\n",
    "import torchvision.transforms as transforms\n",
    "from PIL import Image\n",
    "import os\n",
    "import os.path\n",
    "from __future__ import print_function\n",
    "import torch\n",
    "import numpy as np\n",
    "from skimage.transform import rescale\n",
    "import random\n",
    "\n",
    "\n",
    "\n",
    "IMG_EXTENSIONS = [\n",
    "    '.jpg', '.JPG', '.jpeg', '.JPEG',\n",
    "    '.png', '.PNG', '.ppm', '.PPM', '.bmp', '.BMP',\n",
    "]\n",
    "\n",
    "\n",
    "def is_image_file(filename, filetypes=IMG_EXTENSIONS):\n",
    "    return any(filename.endswith(extension) for extension in filetypes)\n",
    "\n",
    "\n",
    "def make_dataset(dir, filetypes=IMG_EXTENSIONS):\n",
    "    images = []\n",
    "    assert os.path.isdir(dir), '%s is not a valid directory' % dir\n",
    "\n",
    "    for root, _, fnames in sorted(os.walk(dir)):\n",
    "        for fname in fnames:\n",
    "            if is_image_file(fname, filetypes):\n",
    "                path = os.path.join(root, fname)\n",
    "                images.append(path)\n",
    "\n",
    "    return images\n"
   ]
  },
  {
   "cell_type": "code",
   "execution_count": 3,
   "id": "4dce564d-2e83-4f5b-a486-fd1d95167d63",
   "metadata": {},
   "outputs": [],
   "source": [
    "\n",
    "class BaseDataset(data.Dataset):\n",
    "\n",
    "    ''' Datasets all have to follow the given format.'''\n",
    "\n",
    "    def __init__(self):\n",
    "        super(BaseDataset, self).__init__()\n",
    "\n",
    "    def name(self):\n",
    "        return 'BaseDataset'\n",
    "\n",
    "    def initialize(self, opt):\n",
    "        pass\n",
    "\n",
    "\n",
    "def get_transforms(opt):\n",
    "    transform_list = []\n",
    "    if opt.resize_or_crop == 'resize_and_crop':\n",
    "        # scale images to opt.loadSize using BICUBIC rule\n",
    "        osize = [opt.loadSize, opt.loadSize]\n",
    "        transform_list.append(transforms.Scale(osize, Image.BICUBIC))\n",
    "        transform_list.append(transforms.RandomCrop(opt.fineSize))\n",
    "    elif opt.resize_or_crop == 'crop':\n",
    "        transform_list.append(transforms.RandomCrop(opt.fineSize))\n",
    "    elif opt.resize_or_crop == 'scale_width':\n",
    "        transform_list.append(transforms.Lambda(\n",
    "            lambda img: __scale_width(img, opt.fineSize)))\n",
    "    elif opt.resize_or_crop == 'scale_width_and_crop':\n",
    "        transform_list.append(transforms.Lambda(\n",
    "            lambda img: __scale_width(img, opt.loadSize)))\n",
    "        transform_list.append(transforms.RandomCrop(opt.fineSize))\n",
    "\n",
    "    #lambda te permite usar una funcion definida por el usuario como una transformacion \n",
    "\n",
    "    if opt.isTrain and not opt.no_flip:\n",
    "        transform_list.append(transforms.RandomHorizontalFlip())\n",
    "\n",
    "    transform_list += [transforms.ToTensor(),\n",
    "                       transforms.Normalize((0.5, 0.5, 0.5), (0.5, 0.5, 0.5))]\n",
    "    return transforms.Compose(transform_list)\n",
    "    \n",
    "# compose compone varias funciones juntas, admite una lista de transformaciones \n",
    "\n",
    "def __scale_width(img, target_width):\n",
    "    ow, oh = img.size\n",
    "    if (ow == target_width):\n",
    "        return img\n",
    "    w = target_width\n",
    "    h = int(target_width * oh / ow)\n",
    "    return img.resize((w, h), Image.BICUBIC)\n"
   ]
  },
  {
   "cell_type": "code",
   "execution_count": 5,
   "id": "615bdb68-8127-4294-8f12-9378162d567b",
   "metadata": {},
   "outputs": [],
   "source": [
    "\n",
    "def vox2tensor(img):\n",
    "    ''' Converts a Numpy array (D x H x W x C) to a voxel Tensor\n",
    "    ( C x D x H x W )\n",
    "    '''\n",
    "    if img.ndim == 4:\n",
    "        img = img.transpose((3, 0, 1, 2))\n",
    "        img = torch.from_numpy(img)\n",
    "        if isinstance(img, torch.ByteTensor):\n",
    "            return img.float().div(255)\n",
    "        else:\n",
    "            return img\n",
    "    else:\n",
    "        raise TypeError('vox should have 4 dimensions.')\n",
    "    pass\n",
    "\n",
    "\n",
    "def normalize3d(img, mean, std):\n",
    "    ''' Normalizes a voxel Tensor (C x D x H x W) by mean and std. '''\n",
    "    if len(mean) < 3 or len(std) < 3:\n",
    "        raise TypeError('not enough means and standard deviations')\n",
    "    for t, m, s in zip(img, mean, std):\n",
    "        t.sub_(m).div_(s)\n",
    "    return img\n",
    "\n"
   ]
  },
  {
   "cell_type": "code",
   "execution_count": 42,
   "id": "eb3f1a14-4950-4507-a21f-d98fcc2f2d57",
   "metadata": {},
   "outputs": [
    {
     "data": {
      "text/plain": [
       "torch.Size([3, 123, 287, 375])"
      ]
     },
     "execution_count": 42,
     "metadata": {},
     "output_type": "execute_result"
    }
   ],
   "source": [
    "\n",
    "class VoxelDataset(BaseDataset):\n",
    "    def initialize(self):\n",
    "        self.dir_AB = r\"C:\\Users\\ortma\\Desktop\\FACULTAD\\PI\\TENSORES PACIENTES\"\n",
    "        # go through directory return os.path for all images\n",
    "        slice_filetype = ['.pt'] \n",
    "        self.AB_paths = sorted(make_dataset(self.dir_AB, slice_filetype))  # make_dataset te devuelve una lista con tutas de las imagenes que coincidan con las extensiones ingresadas\n",
    "        \n",
    "    def rgb_to_gray(self, tensor_ct, tensor_dosis):\n",
    "        '''Reference images are CT scans with highlighted OARs and PTVs. The\n",
    "        targets are dose intensity matrices.'''\n",
    "        \n",
    "        dose_val = (tensor_dosis).numpy()\n",
    "        ct_img = (tensor_ct).numpy()\n",
    "        #d, w, h, nc = ct_img.shape\n",
    "        #assert (d, w, h) == dose_val.shape, 'size mismatch between dose and ct'\n",
    "        \n",
    "        # to handle aaron's weird uint format\n",
    "        if dose_val.dtype == np.uint8 or dose_val.dtype == np.uint16:\n",
    "            dose_val= dose_val / 256\n",
    "        if ct_img.dtype == np.uint8 or ct_img.dtype == np.uint16:\n",
    "            ct_img = ct_img / 256\n",
    "    \n",
    "        A = vox2tensor(ct_img).float()\n",
    "        A = normalize3d(A, (0.5, 0.5, 0.5), (0.5, 0.5, 0.5))\n",
    "\n",
    "        B = torch.from_numpy(dose_val).float()\n",
    "        B = B.unsqueeze(0) # se utiliza para agregar una dimensión adicional al tensor B en la posición 0\n",
    "        B.sub_(0.5).div_(0.5)\n",
    "        '''\n",
    "        # flipping augments the dataset by flipping a bunch of the images.\n",
    "        if (not self.opt.no_flip) and random.random() < 0.5:\n",
    "            idx = [i for i in range(A.size(2) - 1, -1, -1)]\n",
    "            idx = torch.LongTensor(idx)\n",
    "            A = A.index_select(2, idx)\n",
    "            B = B.index_select(2, idx)'''\n",
    "        return A, B\n",
    "\n",
    "    def __getitem__(self, index):\n",
    "        \n",
    "        AB_path = self.AB_paths[index]\n",
    "       # Cargar el archivo utilizando el nombre de la variable\n",
    "        loaded = torch.load(AB_path)\n",
    "        \n",
    "        # Acceder a los tensores por separado\n",
    "        tensor_ct = loaded[\"imagen\"]\n",
    "        tensor_dosis = loaded[\"dosis\"]\n",
    "    \n",
    "        A, B = self.rgb_to_gray(tensor_ct, tensor_dosis)\n",
    "        \n",
    "        return {'A': A, 'B': B, 'A_paths': AB_path, 'B_paths': AB_path}\n",
    "\n",
    "    def __len__(self):\n",
    "        return len(self.AB_paths)\n",
    "\n",
    "    def name(self):\n",
    "        return 'VoxelDataset'\n",
    "\n",
    "\n",
    "# Crea una instancia de la clase VoxelDataset\n",
    "voxel_dataset = VoxelDataset()\n",
    "voxel_dataset.initialize()\n",
    "# Llama al método initialize\n",
    "lista = voxel_dataset.__getitem__(0)\n",
    "\n",
    "tensor_ct = lista['A']\n",
    "\n",
    "tensor_dosis = lista['B']\n",
    "\n",
    "tensor_ct.size()\n"
   ]
  },
  {
   "cell_type": "code",
   "execution_count": 79,
   "id": "3883e092-40bc-4658-945a-405f32ca7331",
   "metadata": {},
   "outputs": [
    {
     "name": "stdout",
     "output_type": "stream",
     "text": [
      "Tensor original: torch.Size([1, 123, 113, 148])\n",
      "Tensor trilineal: torch.Size([1, 128, 128, 128])\n"
     ]
    }
   ],
   "source": [
    "import torch\n",
    "import torch.nn.functional as F\n",
    "\n",
    "def trilinear_interpolation(tensor, target_size):\n",
    "    # Redimensionar usando interpolación trilineal con el tamaño objetivo\n",
    "    tensor_resized = F.interpolate(tensor.unsqueeze(0), size=target_size, mode='trilinear', align_corners=False).squeeze(0)\n",
    "    return tensor_resized\n",
    "\n",
    "# Definir el tamaño objetivo\n",
    "target_size = [128,128,128]\n",
    "\n",
    "# Realizar interpolación trilineal\n",
    "tensor_trilinear = trilinear_interpolation(tensor_dosis, target_size)\n",
    "\n",
    "\n",
    "# Verificar las formas originales y redimensionadas\n",
    "print(\"Tensor original:\", tensor_dosis.shape)\n",
    "print(\"Tensor trilineal:\", tensor_trilinear.shape)\n"
   ]
  },
  {
   "cell_type": "code",
   "execution_count": 43,
   "id": "38355bd9-0fd4-4b9b-a651-e777f34d2cdf",
   "metadata": {},
   "outputs": [
    {
     "name": "stdout",
     "output_type": "stream",
     "text": [
      "-----------------------------------------------------------------------------------------------------------\n",
      "Mostramos el tensor rgb recortado\n"
     ]
    },
    {
     "data": {
      "image/png": "[encoded data removed]",
      "text/plain": [
       "<Figure size 640x480 with 1 Axes>"
      ]
     },
     "metadata": {},
     "output_type": "display_data"
    },
    {
     "name": "stdout",
     "output_type": "stream",
     "text": [
      "-----------------------------------------------------------------------------------------------------------\n"
     ]
    }
   ],
   "source": [
    "# graficamos los resultados obtenidos \n",
    "import matplotlib.pyplot as plt\n",
    "print(\"-----------------------------------------------------------------------------------------------------------\")\n",
    "print(\"Mostramos el tensor rgb recortado\")\n",
    "    \n",
    "\n",
    "corte = tensor_dosis[:, 50, :,:]\n",
    "corte = corte.permute(1,2,0)\n",
    "plt.imshow(corte)\n",
    "plt.show()\n",
    "                    \n",
    "print(\"-----------------------------------------------------------------------------------------------------------\")\n"
   ]
  },
  {
   "cell_type": "code",
   "execution_count": null,
   "id": "7d021950-0126-4a96-a13e-2cc0df9a6f8f",
   "metadata": {},
   "outputs": [],
   "source": []
  }
 ],
 "metadata": {
  "kernelspec": {
   "display_name": "Python 3 (ipykernel)",
   "language": "python",
   "name": "python3"
  },
  "language_info": {
   "codemirror_mode": {
    "name": "ipython",
    "version": 3
   },
   "file_extension": ".py",
   "mimetype": "text/x-python",
   "name": "python",
   "nbconvert_exporter": "python",
   "pygments_lexer": "ipython3",
   "version": "3.11.4"
  }
 },
 "nbformat": 4,
 "nbformat_minor": 5
}
